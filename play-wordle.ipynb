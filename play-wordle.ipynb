{
 "cells": [
  {
   "cell_type": "code",
   "execution_count": 1,
   "id": "18baaf74-6621-4d23-9d1d-3441e1b1c86f",
   "metadata": {},
   "outputs": [],
   "source": [
    "import pandas as pd\n",
    "import numpy as np\n",
    "\n",
    "import re\n",
    "\n",
    "from utils.wordle import Wordle"
   ]
  },
  {
   "cell_type": "markdown",
   "id": "9ba93ada-6abb-4cbc-82b8-41b098af09b7",
   "metadata": {},
   "source": [
    "# playing wordle by statistics"
   ]
  },
  {
   "cell_type": "code",
   "execution_count": 2,
   "id": "96aafd34-37f2-4aca-87dc-10c3df628aaf",
   "metadata": {},
   "outputs": [],
   "source": [
    "encoding_table = {\n",
    "    '2': 'O',\n",
    "    '1': '-',\n",
    "    '0': 'X'\n",
    "}\n",
    "\n",
    "\n",
    "def encode_score(score, encoding_table):\n",
    "    score_str = \"\".join([str(i) for i in score])\n",
    "    for key in list(encoding_table.keys()):\n",
    "        score_str = re.sub(key, encoding_table[key], score_str)\n",
    "    return score_str\n",
    "\n",
    "\n",
    "def decode_score(score_str, encoding_table):\n",
    "    score = []\n",
    "    decode_table = dict()\n",
    "    for key in encode_table.keys():\n",
    "        decode_table[encode_table[key]] = key\n",
    "    for s in score_str:\n",
    "        score.append(int(decode_table[s]))\n",
    "    return score"
   ]
  },
  {
   "cell_type": "code",
   "execution_count": 3,
   "id": "7633d288-c941-4a35-a49a-36aa0a1e9144",
   "metadata": {},
   "outputs": [
    {
     "data": {
      "text/plain": [
       "'awoke'"
      ]
     },
     "execution_count": 3,
     "metadata": {},
     "output_type": "execute_result"
    }
   ],
   "source": [
    "# Wordle Game Setting\n",
    "\n",
    "wordle_file = \"./data/common 5-letter words.csv\"\n",
    "\n",
    "wd = Wordle(wordle_file)\n",
    "wd.ans"
   ]
  },
  {
   "cell_type": "code",
   "execution_count": 4,
   "id": "fb7f8421-d2f2-4247-9431-eb601472f1c9",
   "metadata": {},
   "outputs": [
    {
     "data": {
      "text/html": [
       "<div>\n",
       "<style scoped>\n",
       "    .dataframe tbody tr th:only-of-type {\n",
       "        vertical-align: middle;\n",
       "    }\n",
       "\n",
       "    .dataframe tbody tr th {\n",
       "        vertical-align: top;\n",
       "    }\n",
       "\n",
       "    .dataframe thead th {\n",
       "        text-align: right;\n",
       "    }\n",
       "</style>\n",
       "<table border=\"1\" class=\"dataframe\">\n",
       "  <thead>\n",
       "    <tr style=\"text-align: right;\">\n",
       "      <th></th>\n",
       "      <th>word</th>\n",
       "      <th>count</th>\n",
       "    </tr>\n",
       "  </thead>\n",
       "  <tbody>\n",
       "    <tr>\n",
       "      <th>0</th>\n",
       "      <td>aaron</td>\n",
       "      <td>7</td>\n",
       "    </tr>\n",
       "    <tr>\n",
       "      <th>1</th>\n",
       "      <td>aback</td>\n",
       "      <td>2</td>\n",
       "    </tr>\n",
       "    <tr>\n",
       "      <th>2</th>\n",
       "      <td>abbas</td>\n",
       "      <td>2</td>\n",
       "    </tr>\n",
       "    <tr>\n",
       "      <th>3</th>\n",
       "      <td>abbey</td>\n",
       "      <td>7</td>\n",
       "    </tr>\n",
       "    <tr>\n",
       "      <th>4</th>\n",
       "      <td>abbot</td>\n",
       "      <td>2</td>\n",
       "    </tr>\n",
       "  </tbody>\n",
       "</table>\n",
       "</div>"
      ],
      "text/plain": [
       "    word  count\n",
       "0  aaron      7\n",
       "1  aback      2\n",
       "2  abbas      2\n",
       "3  abbey      7\n",
       "4  abbot      2"
      ]
     },
     "execution_count": 4,
     "metadata": {},
     "output_type": "execute_result"
    }
   ],
   "source": [
    "df = pd.read_csv(wordle_file)\n",
    "df.head()"
   ]
  },
  {
   "cell_type": "markdown",
   "id": "e2c1becb-2310-4b1b-ad6e-e39806d9b102",
   "metadata": {},
   "source": [
    "# Create Score Matrix"
   ]
  },
  {
   "cell_type": "code",
   "execution_count": 5,
   "id": "285880e1-c4c0-4632-b00f-08c3366feaae",
   "metadata": {},
   "outputs": [],
   "source": [
    "vocabs = list(df['word'])\n",
    "\n",
    "score_matrix = []\n",
    "for ans in df['word']:\\\n",
    "\n",
    "    # using function from wordle core\n",
    "    wd = Wordle(wordle_file)\n",
    "\n",
    "    # score for this ans\n",
    "    score_arr = []\n",
    "    for guess in df['word']:\n",
    "        encoded_score = encode_score(wd.get_score(ans, guess), encoding_table)\n",
    "        score_arr.append(encoded_score)\n",
    "    \n",
    "    score_matrix.append(score_arr)"
   ]
  },
  {
   "cell_type": "code",
   "execution_count": 6,
   "id": "dc685bb4-f1b3-44d3-83aa-dff6baef32f0",
   "metadata": {},
   "outputs": [],
   "source": [
    "df = pd.DataFrame(columns=[vocabs], data=score_matrix)"
   ]
  },
  {
   "cell_type": "code",
   "execution_count": 7,
   "id": "81b67e2e-a760-4f57-a171-23f6de080a61",
   "metadata": {},
   "outputs": [],
   "source": [
    "df['possible_word'] = vocabs"
   ]
  },
  {
   "cell_type": "code",
   "execution_count": 8,
   "id": "8ccec013-bc0c-485c-bb23-20ec89d3c215",
   "metadata": {},
   "outputs": [],
   "source": [
    "def filter_possible_answer(df, possible_index, guess, guess_result):\n",
    "    # filter answer, new possible index\n",
    "    # based on current possible index and guess\n",
    "    \n",
    "    # look at the guess word column, and the possible answer\n",
    "    pos_df = df[df.loc[possible_index, guess] == guess_result][guess].dropna()\n",
    "    \n",
    "    possible_words = df['possible_word'].loc[pos_df.index]\n",
    "    return list(pos_df.index), np.array(possible_words).squeeze().tolist()\n"
   ]
  },
  {
   "cell_type": "markdown",
   "id": "213a1461",
   "metadata": {},
   "source": [
    "# Play"
   ]
  },
  {
   "cell_type": "code",
   "execution_count": 33,
   "id": "75b59d11-cda4-438f-ba5c-b6b4493a06de",
   "metadata": {},
   "outputs": [
    {
     "name": "stdout",
     "output_type": "stream",
     "text": [
      "ANS: drone\n",
      "guess: 1 | messy | [0, 1, 0, 0, 0]\n",
      "guess: 2 | dixie | [2, 0, 0, 0, 2]\n",
      "guess: 3 | duque | [2, 0, 0, 0, 2]\n",
      "guess: 4 | dance | [2, 0, 1, 0, 2]\n",
      "guess: 5 | drone | [2, 2, 2, 2, 2]\n"
     ]
    }
   ],
   "source": [
    "wd = Wordle(wordle_file)\n",
    "print(\"ANS:\", wd.ans)\n",
    "\n",
    "\n",
    "# first guess\n",
    "guess = np.random.choice(vocabs, 1)[0]\n",
    "wd_result = wd.guess(guess)\n",
    "guess_result = encode_score(wd_result['score'], encoding_table)\n",
    "\n",
    "possible_ind = range(len(df))\n",
    "\n",
    "while not (wd_result['score'] == 2).all():\n",
    "    print(f\"\"\"guess: {wd_result['#guess']} | {wd_result['guessed word']} | {list(wd_result['score'])}\"\"\")\n",
    "    \n",
    "    possible_ind, possible_words = filter_possible_answer(df, possible_ind, guess, guess_result)\n",
    "    \n",
    "    # TODO: return as 1d list\n",
    "    if type(possible_words) != str:\n",
    "        guess = np.random.choice(possible_words, 1)[0]\n",
    "        wd_result = wd.guess(guess)\n",
    "    else:\n",
    "        wd_result = wd.guess(possible_words)\n",
    "    guess_result = encode_score(wd_result['score'], encoding_table)\n",
    "    \n",
    "print(f\"\"\"guess: {wd_result['#guess']} | {wd_result['guessed word']} | {list(wd_result['score'])}\"\"\")"
   ]
  },
  {
   "cell_type": "code",
   "execution_count": null,
   "id": "ed5a2cb3-ec21-4a53-bf68-5bd7f50784f7",
   "metadata": {},
   "outputs": [],
   "source": []
  }
 ],
 "metadata": {
  "kernelspec": {
   "display_name": "Python 3.9.7 64-bit ('base': conda)",
   "language": "python",
   "name": "python397jvsc74a57bd0c6e4e9f98eb68ad3b7c296f83d20e6de614cb42e90992a65aa266555a3137d0d"
  },
  "language_info": {
   "codemirror_mode": {
    "name": "ipython",
    "version": 3
   },
   "file_extension": ".py",
   "mimetype": "text/x-python",
   "name": "python",
   "nbconvert_exporter": "python",
   "pygments_lexer": "ipython3",
   "version": "3.9.7"
  }
 },
 "nbformat": 4,
 "nbformat_minor": 5
}
