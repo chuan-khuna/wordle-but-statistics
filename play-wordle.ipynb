{
 "cells": [
  {
   "cell_type": "code",
   "execution_count": 1,
   "id": "18baaf74-6621-4d23-9d1d-3441e1b1c86f",
   "metadata": {},
   "outputs": [],
   "source": [
    "import pandas as pd\n",
    "import numpy as np\n",
    "\n",
    "import re\n",
    "\n",
    "from utils.wordle import Wordle\n",
    "from utils.reverse_wordle import *\n",
    "\n",
    "\n",
    "import os"
   ]
  },
  {
   "cell_type": "markdown",
   "id": "9ba93ada-6abb-4cbc-82b8-41b098af09b7",
   "metadata": {},
   "source": [
    "# playing wordle by statistics"
   ]
  },
  {
   "cell_type": "code",
   "execution_count": 2,
   "id": "7633d288-c941-4a35-a49a-36aa0a1e9144",
   "metadata": {},
   "outputs": [
    {
     "data": {
      "text/plain": [
       "'beebe'"
      ]
     },
     "execution_count": 2,
     "metadata": {},
     "output_type": "execute_result"
    }
   ],
   "source": [
    "# Wordle Game Setting\n",
    "n_letter = 5\n",
    "\n",
    "wordle_file = f\"./data/common {n_letter}-letter words.csv\"\n",
    "\n",
    "wd = Wordle(wordle_file)\n",
    "wd.ans"
   ]
  },
  {
   "cell_type": "code",
   "execution_count": 3,
   "id": "fb7f8421-d2f2-4247-9431-eb601472f1c9",
   "metadata": {},
   "outputs": [
    {
     "data": {
      "text/html": [
       "<div>\n",
       "<style scoped>\n",
       "    .dataframe tbody tr th:only-of-type {\n",
       "        vertical-align: middle;\n",
       "    }\n",
       "\n",
       "    .dataframe tbody tr th {\n",
       "        vertical-align: top;\n",
       "    }\n",
       "\n",
       "    .dataframe thead th {\n",
       "        text-align: right;\n",
       "    }\n",
       "</style>\n",
       "<table border=\"1\" class=\"dataframe\">\n",
       "  <thead>\n",
       "    <tr style=\"text-align: right;\">\n",
       "      <th></th>\n",
       "      <th>word</th>\n",
       "      <th>count</th>\n",
       "    </tr>\n",
       "  </thead>\n",
       "  <tbody>\n",
       "    <tr>\n",
       "      <th>0</th>\n",
       "      <td>aaron</td>\n",
       "      <td>7</td>\n",
       "    </tr>\n",
       "    <tr>\n",
       "      <th>1</th>\n",
       "      <td>aback</td>\n",
       "      <td>2</td>\n",
       "    </tr>\n",
       "    <tr>\n",
       "      <th>2</th>\n",
       "      <td>abbas</td>\n",
       "      <td>2</td>\n",
       "    </tr>\n",
       "    <tr>\n",
       "      <th>3</th>\n",
       "      <td>abbey</td>\n",
       "      <td>7</td>\n",
       "    </tr>\n",
       "    <tr>\n",
       "      <th>4</th>\n",
       "      <td>abbot</td>\n",
       "      <td>2</td>\n",
       "    </tr>\n",
       "    <tr>\n",
       "      <th>...</th>\n",
       "      <td>...</td>\n",
       "      <td>...</td>\n",
       "    </tr>\n",
       "    <tr>\n",
       "      <th>4067</th>\n",
       "      <td>ziggy</td>\n",
       "      <td>1</td>\n",
       "    </tr>\n",
       "    <tr>\n",
       "      <th>4068</th>\n",
       "      <td>zoned</td>\n",
       "      <td>1</td>\n",
       "    </tr>\n",
       "    <tr>\n",
       "      <th>4069</th>\n",
       "      <td>zones</td>\n",
       "      <td>3</td>\n",
       "    </tr>\n",
       "    <tr>\n",
       "      <th>4070</th>\n",
       "      <td>zooey</td>\n",
       "      <td>1</td>\n",
       "    </tr>\n",
       "    <tr>\n",
       "      <th>4071</th>\n",
       "      <td>zooms</td>\n",
       "      <td>1</td>\n",
       "    </tr>\n",
       "  </tbody>\n",
       "</table>\n",
       "<p>4072 rows × 2 columns</p>\n",
       "</div>"
      ],
      "text/plain": [
       "       word  count\n",
       "0     aaron      7\n",
       "1     aback      2\n",
       "2     abbas      2\n",
       "3     abbey      7\n",
       "4     abbot      2\n",
       "...     ...    ...\n",
       "4067  ziggy      1\n",
       "4068  zoned      1\n",
       "4069  zones      3\n",
       "4070  zooey      1\n",
       "4071  zooms      1\n",
       "\n",
       "[4072 rows x 2 columns]"
      ]
     },
     "execution_count": 3,
     "metadata": {},
     "output_type": "execute_result"
    }
   ],
   "source": [
    "wddf = pd.read_csv(wordle_file)\n",
    "wddf = wddf.dropna()\n",
    "wddf"
   ]
  },
  {
   "cell_type": "markdown",
   "id": "e2c1becb-2310-4b1b-ad6e-e39806d9b102",
   "metadata": {
    "tags": []
   },
   "source": [
    "# Create Score Matrix"
   ]
  },
  {
   "cell_type": "code",
   "execution_count": 4,
   "id": "9f26bf9a-d939-4fad-81f2-269b496656f0",
   "metadata": {},
   "outputs": [],
   "source": [
    "score_file = f\"./guess score matrix {n_letter}-letter words.csv\"\n",
    "\n",
    "vocab = list(wddf['word'])\n",
    "\n",
    "df = get_score_matrix(wordle_file, score_file)"
   ]
  },
  {
   "cell_type": "markdown",
   "id": "213a1461",
   "metadata": {},
   "source": [
    "# Play"
   ]
  },
  {
   "cell_type": "code",
   "execution_count": 5,
   "id": "d53ede31-62d8-4eba-863f-cd93db033ffb",
   "metadata": {},
   "outputs": [],
   "source": [
    "# if want to fixed a word to compare 2 methods\n",
    "\n",
    "fixed_ans = True\n",
    "fixed_word = \"perky\"\n",
    "# fixed_word = Wordle(wordle_file).ans"
   ]
  },
  {
   "cell_type": "code",
   "execution_count": 6,
   "id": "75b59d11-cda4-438f-ba5c-b6b4493a06de",
   "metadata": {},
   "outputs": [
    {
     "name": "stdout",
     "output_type": "stream",
     "text": [
      "(hidden) answer: perky\n",
      "\n",
      "guess: 1 | flake | 00021\n",
      "words left: 10\n",
      "\n",
      "guess: 2 | jenks | 02020\n",
      "words left: 1\n",
      "['perky']\n",
      "\n",
      "guess: 3 | perky | 22222\n",
      "words left: 1\n",
      "['perky']\n",
      "\n"
     ]
    }
   ],
   "source": [
    "wd = Wordle(wordle_file)\n",
    "# overide\n",
    "if fixed_ans:\n",
    "    wd.ans = fixed_word\n",
    "    \n",
    "print(\"(hidden) answer:\", wd.ans)\n",
    "print(\"\")\n",
    "\n",
    "\n",
    "# first guess\n",
    "guess = None\n",
    "correct = False\n",
    "possible_ind = range(len(df))\n",
    "\n",
    "while not(correct):\n",
    "    # guess turn i\n",
    "    \n",
    "    # the first turn pick a word from V0 i.e. vocab\n",
    "    # pick word from V(i-1), based on previous possible vocab\n",
    "    if guess == None:\n",
    "        guess = np.random.choice(vocab, 1)[0]\n",
    "    else:\n",
    "        guess = np.random.choice(possible_words, 1)[0]\n",
    "        \n",
    "    wd_result = wd.guess(guess)\n",
    "    guess_result = encode_score(wd_result['score'])\n",
    "    \n",
    "    # create new vocab based on guess turn i and score turn i\n",
    "    possible_ind, possible_words = filter_possible_words(df, possible_ind, guess, guess_result)\n",
    "    \n",
    "    correct = (wd_result['score'] == 2).all()\n",
    "    \n",
    "    print(f\"guess: {wd_result['#guess']} | {wd_result['guessed word']} | {''.join([str(i) for i in wd_result['score']])}\")\n",
    "    print(f\"words left: {len(possible_words)}\")\n",
    "    if len(possible_words) < 10:\n",
    "        print(f\"{possible_words}\")\n",
    "    print(\"\")"
   ]
  },
  {
   "cell_type": "markdown",
   "id": "45929c85-c34c-4bd7-9485-c6f9e33792c2",
   "metadata": {},
   "source": [
    "# Play by select best word"
   ]
  },
  {
   "cell_type": "code",
   "execution_count": 7,
   "id": "b87dc397-8f6f-4f0a-955d-630b01a8c73b",
   "metadata": {},
   "outputs": [
    {
     "name": "stdout",
     "output_type": "stream",
     "text": [
      "(hidden) answer: perky\n",
      "\n",
      "saner: expected vocab size = 88.5\n",
      "guess: 1 | saner | 00011\n",
      "words left: 131\n",
      "\n",
      "boite: expected vocab size = 9.2\n",
      "guess: 2 | boite | 00001\n",
      "words left: 23\n",
      "\n",
      "kempe: expected vocab size = 2.8\n",
      "guess: 3 | kempe | 12010\n",
      "words left: 1\n",
      "['perky']\n",
      "\n",
      "guess: 4 | perky | 22222\n",
      "words left: 1\n",
      "['perky']\n",
      "\n"
     ]
    }
   ],
   "source": [
    "wd = Wordle(wordle_file)\n",
    "# overide\n",
    "if fixed_ans:\n",
    "    wd.ans = fixed_word\n",
    "\n",
    "print(\"(hidden) answer:\", wd.ans)\n",
    "print(\"\")\n",
    "\n",
    "# first guess\n",
    "guess = None\n",
    "correct = False\n",
    "possible_ind = range(len(df))\n",
    "\n",
    "while not(correct):\n",
    "    # guess turn i\n",
    "    \n",
    "    # the first turn pick a word from V0 i.e. vocab\n",
    "    # pick word from V(i-1), based on previous possible vocab\n",
    "    if guess == None:\n",
    "        guess = find_best_guess(df, range(len(df)), use_all_word=True)\n",
    "    else:\n",
    "        guess = find_best_guess(df, possible_ind, use_all_word=True)\n",
    "        \n",
    "    wd_result = wd.guess(guess)\n",
    "    guess_result = encode_score(wd_result['score'])\n",
    "    \n",
    "    # create new vocab based on guess turn i and score turn i\n",
    "    possible_ind, possible_words = filter_possible_words(df, possible_ind, guess, guess_result)\n",
    "    \n",
    "    correct = (wd_result['score'] == 2).all()\n",
    "    \n",
    "    print(f\"guess: {wd_result['#guess']} | {wd_result['guessed word']} | {''.join([str(i) for i in wd_result['score']])}\")\n",
    "    print(f\"words left: {len(possible_words)}\")\n",
    "    if len(possible_words) < 10:\n",
    "        print(f\"{possible_words}\")\n",
    "    print(\"\")"
   ]
  },
  {
   "cell_type": "code",
   "execution_count": null,
   "id": "406791f6-7fab-4ca8-ba1f-d12191adcbec",
   "metadata": {},
   "outputs": [],
   "source": []
  }
 ],
 "metadata": {
  "kernelspec": {
   "display_name": "Python 3 (ipykernel)",
   "language": "python",
   "name": "python3"
  },
  "language_info": {
   "codemirror_mode": {
    "name": "ipython",
    "version": 3
   },
   "file_extension": ".py",
   "mimetype": "text/x-python",
   "name": "python",
   "nbconvert_exporter": "python",
   "pygments_lexer": "ipython3",
   "version": "3.9.7"
  }
 },
 "nbformat": 4,
 "nbformat_minor": 5
}
