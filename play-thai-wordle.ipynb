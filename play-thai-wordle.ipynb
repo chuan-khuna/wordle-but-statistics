{
 "cells": [
  {
   "cell_type": "code",
   "execution_count": 1,
   "id": "be143265-9eb3-4842-8283-415e310a6660",
   "metadata": {},
   "outputs": [],
   "source": [
    "import pythainlp\n",
    "import numpy as np\n",
    "import pandas as pd\n",
    "\n",
    "from utils.THWordle import *\n",
    "from utils.reverse_wordle import *"
   ]
  },
  {
   "cell_type": "code",
   "execution_count": 2,
   "id": "bc85c45c-8744-47c7-9b64-9b02bce3cf86",
   "metadata": {},
   "outputs": [],
   "source": [
    "with open('./data/Thai words.txt') as f:\n",
    "    lines = f.readlines()\n",
    "    vocab = [line.strip('\\n') for line in lines]"
   ]
  },
  {
   "cell_type": "code",
   "execution_count": 3,
   "id": "4a2e6fbf-5026-4ed8-94b5-f4cd07a2b546",
   "metadata": {},
   "outputs": [],
   "source": [
    "wddf = pd.DataFrame({'word': vocab})\n",
    "wddf['length'] = wddf['word'].apply(lambda x: len(split_word_by_base(x)))"
   ]
  },
  {
   "cell_type": "code",
   "execution_count": 4,
   "id": "a922be1f-977a-408f-8361-8774203f0862",
   "metadata": {},
   "outputs": [
    {
     "data": {
      "text/html": [
       "<div>\n",
       "<style scoped>\n",
       "    .dataframe tbody tr th:only-of-type {\n",
       "        vertical-align: middle;\n",
       "    }\n",
       "\n",
       "    .dataframe tbody tr th {\n",
       "        vertical-align: top;\n",
       "    }\n",
       "\n",
       "    .dataframe thead th {\n",
       "        text-align: right;\n",
       "    }\n",
       "</style>\n",
       "<table border=\"1\" class=\"dataframe\">\n",
       "  <thead>\n",
       "    <tr style=\"text-align: right;\">\n",
       "      <th></th>\n",
       "      <th>word</th>\n",
       "      <th>length</th>\n",
       "    </tr>\n",
       "  </thead>\n",
       "  <tbody>\n",
       "    <tr>\n",
       "      <th>783</th>\n",
       "      <td>เสมือน</td>\n",
       "      <td>5</td>\n",
       "    </tr>\n",
       "    <tr>\n",
       "      <th>784</th>\n",
       "      <td>ผลเสีย</td>\n",
       "      <td>5</td>\n",
       "    </tr>\n",
       "    <tr>\n",
       "      <th>785</th>\n",
       "      <td>ลูกชาย</td>\n",
       "      <td>5</td>\n",
       "    </tr>\n",
       "    <tr>\n",
       "      <th>786</th>\n",
       "      <td>หนูน้อย</td>\n",
       "      <td>5</td>\n",
       "    </tr>\n",
       "    <tr>\n",
       "      <th>787</th>\n",
       "      <td>กระแส</td>\n",
       "      <td>5</td>\n",
       "    </tr>\n",
       "    <tr>\n",
       "      <th>...</th>\n",
       "      <td>...</td>\n",
       "      <td>...</td>\n",
       "    </tr>\n",
       "    <tr>\n",
       "      <th>1461</th>\n",
       "      <td>สันธาน</td>\n",
       "      <td>5</td>\n",
       "    </tr>\n",
       "    <tr>\n",
       "      <th>1462</th>\n",
       "      <td>สมควร</td>\n",
       "      <td>5</td>\n",
       "    </tr>\n",
       "    <tr>\n",
       "      <th>1463</th>\n",
       "      <td>ตอนนั้น</td>\n",
       "      <td>5</td>\n",
       "    </tr>\n",
       "    <tr>\n",
       "      <th>1464</th>\n",
       "      <td>สวรรค์</td>\n",
       "      <td>5</td>\n",
       "    </tr>\n",
       "    <tr>\n",
       "      <th>1465</th>\n",
       "      <td>เสบียง</td>\n",
       "      <td>5</td>\n",
       "    </tr>\n",
       "  </tbody>\n",
       "</table>\n",
       "<p>683 rows × 2 columns</p>\n",
       "</div>"
      ],
      "text/plain": [
       "         word  length\n",
       "783    เสมือน       5\n",
       "784    ผลเสีย       5\n",
       "785    ลูกชาย       5\n",
       "786   หนูน้อย       5\n",
       "787     กระแส       5\n",
       "...       ...     ...\n",
       "1461   สันธาน       5\n",
       "1462    สมควร       5\n",
       "1463  ตอนนั้น       5\n",
       "1464   สวรรค์       5\n",
       "1465   เสบียง       5\n",
       "\n",
       "[683 rows x 2 columns]"
      ]
     },
     "execution_count": 4,
     "metadata": {},
     "output_type": "execute_result"
    }
   ],
   "source": [
    "length = 5\n",
    "\n",
    "wddf = wddf[wddf['length'] == length]\n",
    "vocab = wddf['word']\n",
    "\n",
    "wddf"
   ]
  },
  {
   "cell_type": "code",
   "execution_count": 5,
   "id": "d9624d19-da11-44bf-8632-13de01e59ff5",
   "metadata": {},
   "outputs": [
    {
     "data": {
      "text/plain": [
       "Index(['เสมือน', 'ผลเสีย', 'ลูกชาย', 'หนูน้อย', 'กระแส', 'เลี้ยงดู', 'รวมทั้ง',\n",
       "       'หนทาง', 'ละลาย', 'เหมาะ',\n",
       "       ...\n",
       "       'สุพรรณ', 'เดี๋ยวนี้', 'สัมพันธ์', 'กระบะ', 'คำขวัญ', 'สันธาน', 'สมควร',\n",
       "       'ตอนนั้น', 'สวรรค์', 'เสบียง'],\n",
       "      dtype='object', length=683)"
      ]
     },
     "execution_count": 5,
     "metadata": {},
     "output_type": "execute_result"
    }
   ],
   "source": [
    "df = get_th_score_matrix(wddf, f\"./{length}TH-matrix.csv\")\n",
    "\n",
    "df.columns"
   ]
  },
  {
   "cell_type": "code",
   "execution_count": 6,
   "id": "a8b16e9f-3504-45b7-bb63-c0a97e513b08",
   "metadata": {},
   "outputs": [
    {
     "data": {
      "text/plain": [
       "683"
      ]
     },
     "execution_count": 6,
     "metadata": {},
     "output_type": "execute_result"
    }
   ],
   "source": [
    "len(df.columns)"
   ]
  },
  {
   "cell_type": "markdown",
   "id": "b0545ca2-4758-4161-b5bd-d058c9ae8474",
   "metadata": {},
   "source": [
    "# Play Wordle"
   ]
  },
  {
   "cell_type": "code",
   "execution_count": 7,
   "id": "8adfe51d-eec2-4b8e-8368-009c4a7afbda",
   "metadata": {},
   "outputs": [],
   "source": [
    "fixed_ans = False\n",
    "\n",
    "fixed_word = \"ลักษณะ\""
   ]
  },
  {
   "cell_type": "code",
   "execution_count": 8,
   "id": "2f435ea8-45d1-4d60-bfc4-db16e813e02e",
   "metadata": {},
   "outputs": [
    {
     "name": "stdout",
     "output_type": "stream",
     "text": [
      "(hidden) answer: รัชกาล\n",
      "vocab size: 683\n",
      "\n",
      "guess: 1 | ทำขวัญ | [0 2 0 2][0 2 2 2][0 2 2 2][0 2 1 2][0 2 2 2]\n",
      "words left: 20\n",
      "\n",
      "guess: 2 | รัฐบาล | [2 2 2 2][0 2 2 2][0 2 2 2][2 2 2 2][2 2 2 2]\n",
      "words left: 1\n",
      "['รัชกาล']\n",
      "\n",
      "guess: 3 | รัชกาล | [2 2 2 2][2 2 2 2][2 2 2 2][2 2 2 2][2 2 2 2]\n",
      "words left: 1\n",
      "['รัชกาล']\n",
      "\n"
     ]
    }
   ],
   "source": [
    "wd = THWordle(wddf, allow_random=False)\n",
    "\n",
    "# overide\n",
    "if fixed_ans:\n",
    "    wd.ans = fixed_word\n",
    "\n",
    "print(\"(hidden) answer:\", wd.ans)\n",
    "print(\"vocab size:\", len(vocab))\n",
    "print(\"\")\n",
    "\n",
    "\n",
    "\n",
    "# first guess\n",
    "guess = None\n",
    "correct = False\n",
    "possible_ind = range(len(df))\n",
    "\n",
    "while not(correct):\n",
    "    # guess turn i\n",
    "    \n",
    "    # the first turn pick a word from V0 i.e. vocab\n",
    "    # pick word from V(i-1), based on previous possible vocab\n",
    "    if guess == None:\n",
    "        guess = np.random.choice(vocab, 1)[0]\n",
    "    else:\n",
    "        guess = np.random.choice(possible_words, 1)[0]\n",
    "        \n",
    "    wd_result = wd.guess(guess)\n",
    "    flatten_score = [s for group in wd_result['score'] for s in group]\n",
    "    guess_result = encode_score(flatten_score)\n",
    "    \n",
    "    # create new vocab based on guess turn i and score turn i\n",
    "    possible_ind, possible_words = filter_possible_words(df, possible_ind, guess, guess_result)\n",
    "    \n",
    "    correct = (wd_result['score'] == 2).all()\n",
    "    \n",
    "    print(f\"guess: {wd_result['#guess']} | {wd_result['guessed word']} | {''.join([str(i) for i in wd_result['score']])}\")\n",
    "    print(f\"words left: {len(possible_words)}\")\n",
    "    if len(possible_words) < 10:\n",
    "        print(f\"{possible_words}\")\n",
    "    print(\"\")"
   ]
  },
  {
   "cell_type": "code",
   "execution_count": 10,
   "id": "cc9ffb54-bdd8-43ef-8346-43d356a29b61",
   "metadata": {},
   "outputs": [
    {
     "name": "stdout",
     "output_type": "stream",
     "text": [
      "(hidden) answer: บริวาร\n",
      "vocab size: 683\n",
      "\n",
      "ทรมาน: expected vocab size = 3.9\n",
      "guess: 1 | ทรมาน | [0 2 2 2][2 2 0 2][0 2 2 2][2 2 2 2][0 2 2 2]\n",
      "words left: 4\n",
      "['บริการ', 'บริวาร', 'บริหาร', 'บริจาค']\n",
      "\n",
      "จนกว่า: expected vocab size = 1.0\n",
      "guess: 2 | จนกว่า | [0 2 2 2][0 2 0 2][0 2 2 2][1 2 2 0][1 2 2 2]\n",
      "words left: 1\n",
      "['บริวาร']\n",
      "\n",
      "guess: 3 | บริวาร | [2 2 2 2][2 2 2 2][2 2 2 2][2 2 2 2][2 2 2 2]\n",
      "words left: 1\n",
      "['บริวาร']\n",
      "\n"
     ]
    }
   ],
   "source": [
    "wd = THWordle(wddf, allow_random=False)\n",
    "\n",
    "# overide\n",
    "if fixed_ans:\n",
    "    wd.ans = fixed_word\n",
    "\n",
    "print(\"(hidden) answer:\", wd.ans)\n",
    "print(\"vocab size:\", len(vocab))\n",
    "print(\"\")\n",
    "\n",
    "# first guess\n",
    "guess = None\n",
    "correct = False\n",
    "possible_ind = range(len(df))\n",
    "\n",
    "while not(correct):\n",
    "    # guess turn i\n",
    "    \n",
    "    # the first turn pick a word from V0 i.e. vocab\n",
    "    # pick word from V(i-1), based on previous possible vocab\n",
    "    if guess == None:\n",
    "        guess = find_best_guess(df, range(len(df)), use_all_word=True)\n",
    "    else:\n",
    "        guess = find_best_guess(df, possible_ind, use_all_word=True)\n",
    "        \n",
    "    wd_result = wd.guess(guess)\n",
    "    flatten_score = [s for group in wd_result['score'] for s in group]\n",
    "    guess_result = encode_score(flatten_score)\n",
    "    \n",
    "    # create new vocab based on guess turn i and score turn i\n",
    "    possible_ind, possible_words = filter_possible_words(df, possible_ind, guess, guess_result)\n",
    "    \n",
    "    correct = (wd_result['score'] == 2).all()\n",
    "    \n",
    "    print(f\"guess: {wd_result['#guess']} | {wd_result['guessed word']} | {''.join([str(i) for i in wd_result['score']])}\")\n",
    "    print(f\"words left: {len(possible_words)}\")\n",
    "    if len(possible_words) < 10:\n",
    "        print(f\"{possible_words}\")\n",
    "    print(\"\")"
   ]
  },
  {
   "cell_type": "code",
   "execution_count": null,
   "id": "41084c8e-ffde-4a12-9986-b94f46eacc29",
   "metadata": {},
   "outputs": [],
   "source": []
  }
 ],
 "metadata": {
  "kernelspec": {
   "display_name": "Python 3.9.7 64-bit ('base': conda)",
   "language": "python",
   "name": "python397jvsc74a57bd0c6e4e9f98eb68ad3b7c296f83d20e6de614cb42e90992a65aa266555a3137d0d"
  },
  "language_info": {
   "codemirror_mode": {
    "name": "ipython",
    "version": 3
   },
   "file_extension": ".py",
   "mimetype": "text/x-python",
   "name": "python",
   "nbconvert_exporter": "python",
   "pygments_lexer": "ipython3",
   "version": "3.9.7"
  }
 },
 "nbformat": 4,
 "nbformat_minor": 5
}
