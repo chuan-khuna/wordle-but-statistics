{
 "cells": [
  {
   "cell_type": "code",
   "execution_count": 1,
   "id": "af72aa29-3de6-4df2-bb1b-d6183cb51070",
   "metadata": {},
   "outputs": [],
   "source": [
    "import pythainlp\n",
    "import numpy as np\n",
    "import pandas as pd\n",
    "\n",
    "from utils.THWordle import *\n",
    "from utils.reverse_wordle import *"
   ]
  },
  {
   "cell_type": "code",
   "execution_count": 2,
   "id": "22f12a54-6fa3-4e7a-b0ee-e6dcee0ad30c",
   "metadata": {},
   "outputs": [],
   "source": [
    "def fuzzy_filter_possible_words(score_df, prev_possible_index, guess, guess_result):\n",
    "    # get score_df with prev_possible_index to create V(i-1)\n",
    "    # V(i-1): vocab of previous turn\n",
    "    # we make a guess turn i g(i) based on V(i-1)\n",
    "    # and we get score i s(i)\n",
    "\n",
    "    # filter V(i-1) based on g(i) and s(i)\n",
    "    possible_df = score_df.loc[prev_possible_index]\n",
    "    guess_result = guess_result.upper()\n",
    "\n",
    "    # filter new Vi\n",
    "    for i in range(len(guess_result)):\n",
    "        if guess_result[i] in ['X', 'O', '-']:\n",
    "            possible_df = possible_df[possible_df[guess].str[i] == guess_result[i]]\n",
    "    \n",
    "    possible_words = list(score_df.columns[possible_df.index])\n",
    "\n",
    "    return list(possible_df.index), possible_words"
   ]
  },
  {
   "cell_type": "code",
   "execution_count": 3,
   "id": "ecd217d4-881d-426d-9cd8-1592cccc8cda",
   "metadata": {},
   "outputs": [],
   "source": [
    "with open('./data/Thai words.txt') as f:\n",
    "    lines = f.readlines()\n",
    "    vocab = [line.strip('\\n') for line in lines]"
   ]
  },
  {
   "cell_type": "code",
   "execution_count": 4,
   "id": "c38181f4-db43-43a7-96cd-91ae408ecd34",
   "metadata": {},
   "outputs": [],
   "source": [
    "wddf = pd.DataFrame({'word': vocab})\n",
    "wddf['length'] = wddf['word'].apply(lambda x: len(split_word_by_base(x)))"
   ]
  },
  {
   "cell_type": "code",
   "execution_count": 5,
   "id": "bb43bc38-eaab-456f-942a-2bec198f45d5",
   "metadata": {},
   "outputs": [
    {
     "data": {
      "text/html": [
       "<div>\n",
       "<style scoped>\n",
       "    .dataframe tbody tr th:only-of-type {\n",
       "        vertical-align: middle;\n",
       "    }\n",
       "\n",
       "    .dataframe tbody tr th {\n",
       "        vertical-align: top;\n",
       "    }\n",
       "\n",
       "    .dataframe thead th {\n",
       "        text-align: right;\n",
       "    }\n",
       "</style>\n",
       "<table border=\"1\" class=\"dataframe\">\n",
       "  <thead>\n",
       "    <tr style=\"text-align: right;\">\n",
       "      <th></th>\n",
       "      <th>word</th>\n",
       "      <th>length</th>\n",
       "    </tr>\n",
       "  </thead>\n",
       "  <tbody>\n",
       "    <tr>\n",
       "      <th>783</th>\n",
       "      <td>เสมือน</td>\n",
       "      <td>5</td>\n",
       "    </tr>\n",
       "    <tr>\n",
       "      <th>784</th>\n",
       "      <td>ผลเสีย</td>\n",
       "      <td>5</td>\n",
       "    </tr>\n",
       "    <tr>\n",
       "      <th>785</th>\n",
       "      <td>ลูกชาย</td>\n",
       "      <td>5</td>\n",
       "    </tr>\n",
       "    <tr>\n",
       "      <th>786</th>\n",
       "      <td>หนูน้อย</td>\n",
       "      <td>5</td>\n",
       "    </tr>\n",
       "    <tr>\n",
       "      <th>787</th>\n",
       "      <td>กระแส</td>\n",
       "      <td>5</td>\n",
       "    </tr>\n",
       "    <tr>\n",
       "      <th>...</th>\n",
       "      <td>...</td>\n",
       "      <td>...</td>\n",
       "    </tr>\n",
       "    <tr>\n",
       "      <th>1461</th>\n",
       "      <td>สันธาน</td>\n",
       "      <td>5</td>\n",
       "    </tr>\n",
       "    <tr>\n",
       "      <th>1462</th>\n",
       "      <td>สมควร</td>\n",
       "      <td>5</td>\n",
       "    </tr>\n",
       "    <tr>\n",
       "      <th>1463</th>\n",
       "      <td>ตอนนั้น</td>\n",
       "      <td>5</td>\n",
       "    </tr>\n",
       "    <tr>\n",
       "      <th>1464</th>\n",
       "      <td>สวรรค์</td>\n",
       "      <td>5</td>\n",
       "    </tr>\n",
       "    <tr>\n",
       "      <th>1465</th>\n",
       "      <td>เสบียง</td>\n",
       "      <td>5</td>\n",
       "    </tr>\n",
       "  </tbody>\n",
       "</table>\n",
       "<p>683 rows × 2 columns</p>\n",
       "</div>"
      ],
      "text/plain": [
       "         word  length\n",
       "783    เสมือน       5\n",
       "784    ผลเสีย       5\n",
       "785    ลูกชาย       5\n",
       "786   หนูน้อย       5\n",
       "787     กระแส       5\n",
       "...       ...     ...\n",
       "1461   สันธาน       5\n",
       "1462    สมควร       5\n",
       "1463  ตอนนั้น       5\n",
       "1464   สวรรค์       5\n",
       "1465   เสบียง       5\n",
       "\n",
       "[683 rows x 2 columns]"
      ]
     },
     "execution_count": 5,
     "metadata": {},
     "output_type": "execute_result"
    }
   ],
   "source": [
    "length = 5\n",
    "\n",
    "wddf = wddf[wddf['length'] == length]\n",
    "vocab = wddf['word']\n",
    "\n",
    "wddf"
   ]
  },
  {
   "cell_type": "code",
   "execution_count": 11,
   "id": "37202b5a-e40d-4c78-9c8d-876f09ac03a8",
   "metadata": {},
   "outputs": [
    {
     "data": {
      "text/plain": [
       "Index(['เสมือน', 'ผลเสีย', 'ลูกชาย', 'หนูน้อย', 'กระแส', 'เลี้ยงดู', 'รวมทั้ง',\n",
       "       'หนทาง', 'ละลาย', 'เหมาะ',\n",
       "       ...\n",
       "       'สุพรรณ', 'เดี๋ยวนี้', 'สัมพันธ์', 'กระบะ', 'คำขวัญ', 'สันธาน', 'สมควร',\n",
       "       'ตอนนั้น', 'สวรรค์', 'เสบียง'],\n",
       "      dtype='object', length=683)"
      ]
     },
     "execution_count": 11,
     "metadata": {},
     "output_type": "execute_result"
    }
   ],
   "source": [
    "df = get_th_score_matrix(wddf, f\"./{length}TH-matrix.csv\")\n",
    "\n",
    "df.columns"
   ]
  },
  {
   "cell_type": "code",
   "execution_count": 12,
   "id": "65f42d8e-096a-4819-abd1-0f6ae90f4b11",
   "metadata": {},
   "outputs": [
    {
     "name": "stdout",
     "output_type": "stream",
     "text": [
      "ทรมาน: expected vocab size = 3.9\n"
     ]
    }
   ],
   "source": [
    "possible_ind = range(len(vocab))\n",
    "guess = find_best_guess(df, possible_ind, use_all_word=True)"
   ]
  },
  {
   "cell_type": "code",
   "execution_count": 13,
   "id": "76dcaf7b-9abc-4d38-b2b1-5a8fae0d539e",
   "metadata": {},
   "outputs": [
    {
     "name": "stdout",
     "output_type": "stream",
     "text": [
      "สายตา: expected vocab size = 1.3\n"
     ]
    }
   ],
   "source": [
    "possible_ind, possible_words = fuzzy_filter_possible_words(df, possible_ind, guess, \"XwwwXwwwXwww-OOOXwww\")\n",
    "\n",
    "if len(possible_words) < 10:\n",
    "    print(possible_words)\n",
    "    \n",
    "guess = find_best_guess(df, possible_ind, use_all_word=True)"
   ]
  },
  {
   "cell_type": "code",
   "execution_count": 14,
   "id": "e016f87b-1226-487f-948e-5ca94ac14670",
   "metadata": {},
   "outputs": [
    {
     "name": "stdout",
     "output_type": "stream",
     "text": [
      "['เชษฐา', 'โฆษณา', 'หลังคา', 'ลูกปลา']\n",
      "เชษฐา: expected vocab size = 1.0\n"
     ]
    }
   ],
   "source": [
    "possible_ind, possible_words = fuzzy_filter_possible_words(df, possible_ind, guess, \"XwwwXwwwXwwwXwwwOOOO\")\n",
    "\n",
    "if len(possible_words) < 10:\n",
    "    print(possible_words)\n",
    "    \n",
    "guess = find_best_guess(df, possible_ind, use_all_word=True)"
   ]
  },
  {
   "cell_type": "code",
   "execution_count": null,
   "id": "5eb610f2-c93f-4fc8-ba05-a724256e792b",
   "metadata": {},
   "outputs": [],
   "source": []
  }
 ],
 "metadata": {
  "kernelspec": {
   "display_name": "Python 3.9.7 64-bit ('base': conda)",
   "language": "python",
   "name": "python397jvsc74a57bd0c6e4e9f98eb68ad3b7c296f83d20e6de614cb42e90992a65aa266555a3137d0d"
  },
  "language_info": {
   "codemirror_mode": {
    "name": "ipython",
    "version": 3
   },
   "file_extension": ".py",
   "mimetype": "text/x-python",
   "name": "python",
   "nbconvert_exporter": "python",
   "pygments_lexer": "ipython3",
   "version": "3.9.7"
  }
 },
 "nbformat": 4,
 "nbformat_minor": 5
}
